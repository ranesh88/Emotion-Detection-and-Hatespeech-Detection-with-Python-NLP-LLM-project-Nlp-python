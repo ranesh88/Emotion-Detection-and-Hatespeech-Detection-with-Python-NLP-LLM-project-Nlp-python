{
  "nbformat": 4,
  "nbformat_minor": 0,
  "metadata": {
    "colab": {
      "private_outputs": true,
      "provenance": [],
      "gpuType": "V28",
      "cell_execution_strategy": "setup",
      "authorship_tag": "ABX9TyOEM2xdSkZUZBjOmkmOUb7C",
      "include_colab_link": true
    },
    "kernelspec": {
      "name": "python3",
      "display_name": "Python 3"
    },
    "language_info": {
      "name": "python"
    },
    "accelerator": "TPU"
  },
  "cells": [
    {
      "cell_type": "markdown",
      "metadata": {
        "id": "view-in-github",
        "colab_type": "text"
      },
      "source": [
        "<a href=\"https://colab.research.google.com/github/ranesh88/Emotion-Detection-and-Hatespeech-Detection-with-Python-NLP-LLM-project-Nlp-python/blob/main/Emotion_Detection_and_Hatespeech_Detection_with_Python_NLP.ipynb\" target=\"_parent\"><img src=\"https://colab.research.google.com/assets/colab-badge.svg\" alt=\"Open In Colab\"/></a>"
      ]
    },
    {
      "cell_type": "code",
      "source": [
        "#!pip install pysentimiento"
      ],
      "metadata": {
        "id": "2eCVrrT3i0hy"
      },
      "execution_count": null,
      "outputs": []
    },
    {
      "cell_type": "markdown",
      "source": [
        "Load Packages"
      ],
      "metadata": {
        "id": "VtwT2Oaz2iaY"
      }
    },
    {
      "cell_type": "code",
      "source": [
        "from pysentimiento import create_analyzer"
      ],
      "metadata": {
        "id": "o0Sm81Z_l9NP"
      },
      "execution_count": null,
      "outputs": []
    },
    {
      "cell_type": "markdown",
      "source": [
        "emotion Detection"
      ],
      "metadata": {
        "id": "Y96HnF2R3Ijh"
      }
    },
    {
      "cell_type": "code",
      "source": [
        "emotion = create_analyzer(task='emotion',lang='en')\n",
        "result = emotion.predict(\"get out of my sight\")\n",
        "result.output"
      ],
      "metadata": {
        "id": "VXA7lLMgi0uv"
      },
      "execution_count": null,
      "outputs": []
    },
    {
      "cell_type": "code",
      "source": [
        "def emotion_detection(text):\n",
        "  emotion = create_analyzer(task='emotion',lang='en')\n",
        "  result = emotion.predict(text)\n",
        "  return result.output\n",
        "emotion_detection(\"I am scared of learning mathematcis\")"
      ],
      "metadata": {
        "id": "bhPKvkz9nsv7"
      },
      "execution_count": null,
      "outputs": []
    },
    {
      "cell_type": "markdown",
      "source": [
        "hate speech detection"
      ],
      "metadata": {
        "id": "5HOqPUdo3Snu"
      }
    },
    {
      "cell_type": "code",
      "source": [
        "hatespeech = create_analyzer(task='hate_speech', lang='en')\n",
        "result = hatespeech.predict(\"I hate eating apples. that's why i don't want to sit with appple seller\")\n",
        "# next(iter(result.probas,None))\n",
        "# next(iter(result.probas.items()),None)\n",
        "result.output"
      ],
      "metadata": {
        "id": "RDWaoROVns3Y"
      },
      "execution_count": null,
      "outputs": []
    },
    {
      "cell_type": "code",
      "source": [
        "def hatespeech_detection(text):\n",
        "  hatespeech = create_analyzer(task='hate_speech', lang='en')\n",
        "  result = hatespeech.predict(text)\n",
        "  return next(iter(result.probas.items()),None)\n",
        "hatespeech_detection(\"I hate eating apples. that's why i don't want to sit with appple seller\")"
      ],
      "metadata": {
        "id": "8QiAZomXi0xj"
      },
      "execution_count": null,
      "outputs": []
    },
    {
      "cell_type": "markdown",
      "source": [
        "Predictive System"
      ],
      "metadata": {
        "id": "kdJKFqMM3fr-"
      }
    },
    {
      "cell_type": "code",
      "source": [
        "text = \"\"\"I woke up this morning feeling incredibly happy and grateful for the beautiful weather outside.\n",
        " The sun was shining, birds were singing, and there was a gentle breeze in the air. It felt like the\n",
        " perfect day to go for a long walk in the park.\"\"\""
      ],
      "metadata": {
        "id": "oopYlb-Ui00P"
      },
      "execution_count": null,
      "outputs": []
    },
    {
      "cell_type": "code",
      "source": [
        "emo = emotion_detection(text)\n",
        "hate = hatespeech_detection(text)\n",
        "\n",
        "print(\"Emotion :\", emo)\n",
        "print(\"Speech :\", hate)"
      ],
      "metadata": {
        "id": "2vKEVaJKxf0V"
      },
      "execution_count": null,
      "outputs": []
    },
    {
      "cell_type": "code",
      "source": [
        "# Example 2:\n",
        "text = \"\"\"In the evening, I decided to unwind by watching a comedy show. The hilarious jokes and witty banter lifted my spirits, and I found myself laughing uncontrollably.\n",
        " Laughter truly is the best medicine, and it was the perfect way to end the day on a positive note.\n",
        "\"\"\""
      ],
      "metadata": {
        "id": "abPomCnXxf3W"
      },
      "execution_count": null,
      "outputs": []
    },
    {
      "cell_type": "code",
      "source": [
        "emo = emotion_detection(text)\n",
        "hate = hatespeech_detection(text)\n",
        "\n",
        "print(\"Emotion :\", emo)\n",
        "print(\"Speech :\", hate)"
      ],
      "metadata": {
        "id": "fI32WGUWxf8N"
      },
      "execution_count": null,
      "outputs": []
    },
    {
      "cell_type": "code",
      "source": [
        "# Example 3:\n",
        "doc = \"\"\"Have you heard the term “you get what you pay for”?\n",
        "All your troubles can be resolved, simply by purchasing a business class ticket or better yet a first class seat and forever quit your complaining. Maybe use all those air miles you’ve racked up to upgrade from economy next time.\n",
        "You lack a ton of common sense and have publicly embarrassed yourself with these whiny comments.\n",
        "\"\"\""
      ],
      "metadata": {
        "id": "MDnQUs_Ki034"
      },
      "execution_count": null,
      "outputs": []
    },
    {
      "cell_type": "code",
      "source": [
        "emo = emotion_detection(doc)\n",
        "hate = hatespeech_detection(doc)\n",
        "\n",
        "print(\"Emotion :\", emo)\n",
        "print(\"Speech :\", hate)"
      ],
      "metadata": {
        "id": "0I7N1B0UxxTk"
      },
      "execution_count": null,
      "outputs": []
    },
    {
      "cell_type": "code",
      "source": [],
      "metadata": {
        "id": "1MQdHU_Sy-f_"
      },
      "execution_count": null,
      "outputs": []
    }
  ]
}